{
 "cells": [
  {
   "cell_type": "markdown",
   "id": "429dbd09-5870-44fa-9c5f-266b1fc7f3c4",
   "metadata": {},
   "source": [
    "# tqdm\n",
    "\n",
    "> Status bar for for loops\n",
    "\n",
    "- skip_showdoc: true\n",
    "- skip_exec: true"
   ]
  },
  {
   "cell_type": "code",
   "execution_count": null,
   "id": "0a17808e-cb7e-47c2-9f29-dfe7c2ff2f9f",
   "metadata": {},
   "outputs": [],
   "source": [
    "#| default_exp tqdm"
   ]
  },
  {
   "cell_type": "code",
   "execution_count": null,
   "id": "638e35e2-31ed-457e-ac5d-0c4cea2302e0",
   "metadata": {},
   "outputs": [
    {
     "name": "stdout",
     "output_type": "stream",
     "text": [
      "tqdm                      4.66.4\n"
     ]
    }
   ],
   "source": [
    "!pip list | grep tqdm"
   ]
  },
  {
   "cell_type": "code",
   "execution_count": null,
   "id": "f84e5af8-f699-4bba-909f-1e17adec7060",
   "metadata": {},
   "outputs": [],
   "source": [
    "from tqdm import tqdm       # <-- yes\n",
    "from time import sleep\n",
    "from tqdm import trange\n"
   ]
  },
  {
   "cell_type": "code",
   "execution_count": null,
   "id": "58e27711-5e82-4ac9-8693-584c6b52256d",
   "metadata": {},
   "outputs": [
    {
     "name": "stderr",
     "output_type": "stream",
     "text": [
      "100%|██████████████████████████████| 100/100 [00:01<00:00, 96.61it/s]\n"
     ]
    }
   ],
   "source": [
    "for i in tqdm(range(100)):  # <-- magic\n",
    "    sleep(0.01)"
   ]
  },
  {
   "cell_type": "code",
   "execution_count": null,
   "id": "b31ba9bd-c462-4242-98dc-07db2f7d1137",
   "metadata": {},
   "outputs": [
    {
     "name": "stderr",
     "output_type": "stream",
     "text": [
      "hello: 100%|████████████████████| 100/100 [00:01<00:00, 95.96epoch/s]\n"
     ]
    }
   ],
   "source": [
    "for i in trange(100, desc=\"hello\", unit=\"epoch\"):\n",
    "    sleep(0.01)"
   ]
  },
  {
   "cell_type": "code",
   "execution_count": null,
   "id": "3a4a8744-d2fe-4dc4-ad2e-3c026db1a8b5",
   "metadata": {},
   "outputs": [
    {
     "name": "stderr",
     "output_type": "stream",
     "text": [
      "100%|██████████████████████████████| 100/100 [00:01<00:00, 98.61it/s]\n"
     ]
    }
   ],
   "source": [
    "with tqdm(total=100) as pbar:\n",
    "    for i in range(10):\n",
    "        sleep(0.1)\n",
    "        pbar.update(10)"
   ]
  },
  {
   "cell_type": "code",
   "execution_count": null,
   "id": "9843aa45-041b-4aeb-bfcb-c221440fa516",
   "metadata": {},
   "outputs": [
    {
     "name": "stderr",
     "output_type": "stream",
     "text": [
      "100%|██████████████████████████████| 100/100 [00:01<00:00, 98.64it/s]\n"
     ]
    }
   ],
   "source": [
    "pbar = tqdm(total=100)\n",
    "for i in range(10):\n",
    "    sleep(0.1)\n",
    "    pbar.update(10)\n",
    "pbar.close()"
   ]
  },
  {
   "cell_type": "markdown",
   "id": "39cbf17a-3356-435f-8ad0-e64e07ed5eb4",
   "metadata": {},
   "source": [
    "## Using with map"
   ]
  },
  {
   "cell_type": "code",
   "execution_count": null,
   "id": "5ad2ad71-ada3-4ba9-b812-f681efe457a7",
   "metadata": {},
   "outputs": [
    {
     "name": "stderr",
     "output_type": "stream",
     "text": [
      "100%|██████████████████████████████| 100/100 [00:01<00:00, 95.96it/s]\n"
     ]
    }
   ],
   "source": [
    "from tqdm import tqdm\n",
    "import time\n",
    "\n",
    "def process_item(item):\n",
    "    time.sleep(0.01)\n",
    "    return item * 2\n",
    "\n",
    "results = list(tqdm(map(process_item, range(100)), total=len(range(100))))\n"
   ]
  },
  {
   "cell_type": "markdown",
   "id": "79e76a58-0587-4d62-85fb-8b5db0abb6c5",
   "metadata": {},
   "source": [
    "## Using with Nested Loops"
   ]
  },
  {
   "cell_type": "code",
   "execution_count": null,
   "id": "d2796f77-aabb-44f8-b770-fdc2deb48004",
   "metadata": {},
   "outputs": [
    {
     "data": {
      "application/vnd.jupyter.widget-view+json": {
       "model_id": "1a16f0c849254b42914832f9debc76f3",
       "version_major": 2,
       "version_minor": 0
      },
      "text/plain": [
       "Outer loop:   0%|          | 0/5 [00:00<?, ?it/s]"
      ]
     },
     "metadata": {},
     "output_type": "display_data"
    },
    {
     "data": {
      "application/vnd.jupyter.widget-view+json": {
       "model_id": "b2bc33e76b9a4cbca09b76ff49416645",
       "version_major": 2,
       "version_minor": 0
      },
      "text/plain": [
       "Inner loop:   0%|          | 0/100 [00:00<?, ?it/s]"
      ]
     },
     "metadata": {},
     "output_type": "display_data"
    },
    {
     "data": {
      "application/vnd.jupyter.widget-view+json": {
       "model_id": "68dc2ed244ab4b72bc532c25e8280db5",
       "version_major": 2,
       "version_minor": 0
      },
      "text/plain": [
       "Inner loop:   0%|          | 0/100 [00:00<?, ?it/s]"
      ]
     },
     "metadata": {},
     "output_type": "display_data"
    },
    {
     "data": {
      "application/vnd.jupyter.widget-view+json": {
       "model_id": "773c5092174d4b2d9e4488756ceca7cc",
       "version_major": 2,
       "version_minor": 0
      },
      "text/plain": [
       "Inner loop:   0%|          | 0/100 [00:00<?, ?it/s]"
      ]
     },
     "metadata": {},
     "output_type": "display_data"
    },
    {
     "data": {
      "application/vnd.jupyter.widget-view+json": {
       "model_id": "f5f43916bcfe485c8e942fdcd9476c86",
       "version_major": 2,
       "version_minor": 0
      },
      "text/plain": [
       "Inner loop:   0%|          | 0/100 [00:00<?, ?it/s]"
      ]
     },
     "metadata": {},
     "output_type": "display_data"
    },
    {
     "data": {
      "application/vnd.jupyter.widget-view+json": {
       "model_id": "0d838797b59549a4ad2c8e585760e7e7",
       "version_major": 2,
       "version_minor": 0
      },
      "text/plain": [
       "Inner loop:   0%|          | 0/100 [00:00<?, ?it/s]"
      ]
     },
     "metadata": {},
     "output_type": "display_data"
    }
   ],
   "source": [
    "from tqdm.notebook import tqdm\n",
    "import time\n",
    "\n",
    "for i in tqdm(range(5), desc='Outer loop'):\n",
    "    for j in tqdm(range(100), desc='Inner loop', leave=True):\n",
    "        time.sleep(0.01)  # Simulate some work being done\n"
   ]
  },
  {
   "cell_type": "code",
   "execution_count": null,
   "id": "980eebc8-8865-4ea8-b75b-6428c98c3a6e",
   "metadata": {},
   "outputs": [],
   "source": []
  }
 ],
 "metadata": {
  "kernelspec": {
   "display_name": "python3",
   "language": "python",
   "name": "python3"
  },
  "widgets": {
   "application/vnd.jupyter.widget-state+json": {
    "state": {},
    "version_major": 2,
    "version_minor": 0
   }
  }
 },
 "nbformat": 4,
 "nbformat_minor": 5
}
