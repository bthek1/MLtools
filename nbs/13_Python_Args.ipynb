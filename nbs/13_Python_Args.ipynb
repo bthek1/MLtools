{
 "cells": [
  {
   "cell_type": "markdown",
   "metadata": {},
   "source": [
    "# Python args\n",
    "\n",
    "> \n",
    "\n",
    "- skip_showdoc: true\n",
    "- skip_exec: true"
   ]
  },
  {
   "cell_type": "markdown",
   "metadata": {},
   "source": [
    "```python\n",
    "import argparse\n",
    "parser = argparse.ArgumentParser()\n",
    "parser.add_argument(\"square\", type=int,\n",
    "                    help=\"display a square of a given number\")\n",
    "parser.add_argument(\"-v\", \"--verbose\", action=\"store_true\",\n",
    "                    help=\"increase output verbosity\")\n",
    "args = parser.parse_args()\n",
    "answer = args.square**2\n",
    "if args.verbose:\n",
    "    print(f\"the square of {args.square} equals {answer}\")\n",
    "else:\n",
    "    print(answer)\n",
    "```"
   ]
  },
  {
   "cell_type": "markdown",
   "metadata": {},
   "source": [
    "```bash\n",
    ">> python prog.py\n",
    "usage: prog.py [-h] [-v] square\n",
    "prog.py: error: the following arguments are required: square\n",
    "\n",
    ">> python prog.py 4\n",
    "16\n",
    "\n",
    ">> python prog.py 4 --verbose\n",
    "the square of 4 equals 16\n",
    "\n",
    ">> python prog.py --verbose 4\n",
    "the square of 4 equals 16\n",
    "```"
   ]
  },
  {
   "cell_type": "code",
   "execution_count": null,
   "metadata": {},
   "outputs": [],
   "source": [
    "from datetime import datetime, timedelta\n",
    "\n",
    "\n",
    "current_time = datetime.now()\n",
    "\n",
    "formatted_current_time = current_time.strftime(\"%Y-%m-%dT%H:%M:%SZ\")\n",
    "yesterday = (current_time - timedelta(days=1)).strftime(\"%Y-%m-%dT%H:%M:%SZ\")\n",
    "one_week_from_now = (current_time + timedelta(days=7)).strftime(\"%Y-%m-%dT%H:%M:%SZ\")\n",
    "six_months_before = (current_time - timedelta(days=30 * 6)).strftime(\"%Y-%m-%dT%H:%M:%SZ\")\n"
   ]
  },
  {
   "cell_type": "code",
   "execution_count": null,
   "metadata": {},
   "outputs": [
    {
     "data": {
      "text/plain": [
       "datetime.datetime(2024, 3, 19, 23, 11, 14, 919407)"
      ]
     },
     "execution_count": null,
     "metadata": {},
     "output_type": "execute_result"
    }
   ],
   "source": [
    "'19/03/2024' to \"%Y-%m-%dT%H:%M:%SZ\" format"
   ]
  },
  {
   "cell_type": "markdown",
   "metadata": {},
   "source": [
    "- run test_create_model.py - check for models\n",
    "- run test_pred_model.py - check for models\n",
    "\n",
    "- run predict_schedule.py --now"
   ]
  },
  {
   "cell_type": "code",
   "execution_count": null,
   "metadata": {},
   "outputs": [],
   "source": []
  }
 ],
 "metadata": {
  "kernelspec": {
   "display_name": "python3",
   "language": "python",
   "name": "python3"
  },
  "widgets": {
   "application/vnd.jupyter.widget-state+json": {
    "state": {},
    "version_major": 2,
    "version_minor": 0
   }
  }
 },
 "nbformat": 4,
 "nbformat_minor": 4
}
