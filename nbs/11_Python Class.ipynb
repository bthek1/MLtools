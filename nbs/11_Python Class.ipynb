{
 "cells": [
  {
   "cell_type": "markdown",
   "id": "e08a6e4b-5fd2-421f-898c-f625785343e4",
   "metadata": {},
   "source": [
    "# Python Class\n",
    "\n",
    "> Python class (coming soon)\n",
    "\n",
    "- skip_showdoc: true\n",
    "- skip_exec: true"
   ]
  },
  {
   "cell_type": "markdown",
   "id": "0fda41b4-181f-480f-8e37-ed7cee74aef0",
   "metadata": {},
   "source": [
    "Special methods you should probably know about (see data model link above) are:\n",
    "\n",
    "- `__getitem__`\n",
    "- `__getattr__`\n",
    "- `__setattr__`\n",
    "- `__del__`\n",
    "- `__init__`\n",
    "- `__new__`\n",
    "- `__enter__`\n",
    "- `__exit__`\n",
    "- `__len__`\n",
    "- `__repr__`\n",
    "- `__str__`\n",
    "- `__iter__`\n",
    "- `__call__`"
   ]
  },
  {
   "cell_type": "code",
   "execution_count": null,
   "id": "dd40fbc6-6cc9-413b-ba42-ad29d9c4d4f6",
   "metadata": {},
   "outputs": [],
   "source": []
  }
 ],
 "metadata": {
  "kernelspec": {
   "display_name": "python3",
   "language": "python",
   "name": "python3"
  },
  "widgets": {
   "application/vnd.jupyter.widget-state+json": {
    "state": {},
    "version_major": 2,
    "version_minor": 0
   }
  }
 },
 "nbformat": 4,
 "nbformat_minor": 5
}
